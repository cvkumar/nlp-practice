{
 "cells": [
  {
   "cell_type": "code",
   "execution_count": 12,
   "metadata": {},
   "outputs": [],
   "source": [
    "import pandas as pd\n",
    "\n",
    "from tensorflow.keras.preprocessing.text import Tokenizer\n",
    "from tensorflow.keras.preprocessing.sequence import pad_sequences\n",
    "\n",
    "import torch.nn as nn\n",
    "import torch.nn.functional as F\n",
    "import torch.optim as optim\n",
    "\n",
    "import torch\n",
    "\n",
    "import numpy as np"
   ]
  },
  {
   "cell_type": "code",
   "execution_count": 57,
   "metadata": {},
   "outputs": [],
   "source": [
    "df = pd.read_csv('rt_reviews2.csv', engine='python')"
   ]
  },
  {
   "cell_type": "code",
   "execution_count": 14,
   "metadata": {},
   "outputs": [],
   "source": [
    "df = pd.get_dummies(df, columns=[\"Freshness\"], drop_first=True)\n",
    "\n",
    "df[\"\"]"
   ]
  },
  {
   "cell_type": "code",
   "execution_count": 42,
   "metadata": {},
   "outputs": [
    {
     "data": {
      "text/plain": [
       "' It would be difficult to imagine material more wrong for Spade than Lost & Found.'"
      ]
     },
     "execution_count": 42,
     "metadata": {},
     "output_type": "execute_result"
    }
   ],
   "source": [
    "# !pip install tensorflow\n",
    "df.iloc[2][\"Review\"]"
   ]
  },
  {
   "cell_type": "code",
   "execution_count": 16,
   "metadata": {},
   "outputs": [
    {
     "data": {
      "text/plain": [
       "Review               Manakamana doesn't answer any questions, yet ...\n",
       "Freshness_rotten                                                    0\n",
       "Name: 0, dtype: object"
      ]
     },
     "execution_count": 16,
     "metadata": {},
     "output_type": "execute_result"
    }
   ],
   "source": [
    "df.iloc[0]"
   ]
  },
  {
   "cell_type": "code",
   "execution_count": 17,
   "metadata": {},
   "outputs": [
    {
     "name": "stdout",
     "output_type": "stream",
     "text": [
      "Device available for running: \n",
      "cpu\n"
     ]
    }
   ],
   "source": [
    "# TODO: Figure out how to add GPU\n",
    "# Use cuda if present\n",
    "device = torch.device(\"cuda\" if torch.cuda.is_available() else \"cpu\")\n",
    "print(\"Device available for running: \")\n",
    "print(device)"
   ]
  },
  {
   "cell_type": "code",
   "execution_count": 18,
   "metadata": {},
   "outputs": [],
   "source": [
    "vocab_size = 10000\n",
    "embedding_dim = 16\n",
    "max_length = 100\n",
    "trunc_type='post'\n",
    "padding_type='post'\n",
    "oov_tok = \"<OOV>\"\n",
    "\n",
    "total_data_size =50000\n",
    "training_portion = .8\n",
    "testing_portion = .2\n",
    "\n",
    "training_slice = int(total_data_size*training_portion)\n"
   ]
  },
  {
   "cell_type": "code",
   "execution_count": 19,
   "metadata": {},
   "outputs": [],
   "source": [
    "sentences = []\n",
    "for sentence in df['Review']:\n",
    "    sentences.append(sentence)\n",
    "\n",
    "labels = []\n",
    "for label in df['Freshness_rotten']:\n",
    "    labels.append(label)"
   ]
  },
  {
   "cell_type": "code",
   "execution_count": 20,
   "metadata": {},
   "outputs": [
    {
     "name": "stdout",
     "output_type": "stream",
     "text": [
      "40000\n",
      "10000\n"
     ]
    }
   ],
   "source": [
    "\n",
    "training_sentences = sentences[0:training_slice]\n",
    "training_labels = labels[0:training_slice]\n",
    "\n",
    "testing_sentences = sentences[training_slice:total_data_size]\n",
    "testing_labels = labels[training_slice:total_data_size]\n",
    "\n",
    "print(len(training_sentences))\n",
    "print(len(testing_sentences))"
   ]
  },
  {
   "cell_type": "code",
   "execution_count": 21,
   "metadata": {},
   "outputs": [],
   "source": [
    "# TODO: Use different tokenizer\n",
    "\n",
    "tokenizer = Tokenizer(num_words=vocab_size, oov_token=oov_tok)\n",
    "tokenizer.fit_on_texts(training_sentences)\n",
    "\n"
   ]
  },
  {
   "cell_type": "code",
   "execution_count": 22,
   "metadata": {},
   "outputs": [],
   "source": [
    "word_index = tokenizer.word_index\n",
    "\n",
    "training_sequences = tokenizer.texts_to_sequences(training_sentences)\n",
    "training_padded = pad_sequences(training_sequences, maxlen=max_length, padding=padding_type, truncating=trunc_type)\n",
    "\n",
    "testing_sequences = tokenizer.texts_to_sequences(testing_sentences)\n",
    "testing_padded = pad_sequences(testing_sequences, maxlen=max_length, padding=padding_type, truncating=trunc_type)"
   ]
  },
  {
   "cell_type": "code",
   "execution_count": null,
   "metadata": {},
   "outputs": [],
   "source": [
    "# TODO Get some Visualization of your data"
   ]
  },
  {
   "cell_type": "code",
   "execution_count": null,
   "metadata": {},
   "outputs": [],
   "source": []
  },
  {
   "cell_type": "code",
   "execution_count": 23,
   "metadata": {},
   "outputs": [],
   "source": [
    "import numpy as np\n",
    "training_padded = np.array(training_padded)\n",
    "training_labels = np.array(training_labels)\n",
    "testing_padded = np.array(testing_padded)\n",
    "testing_labels = np.array(testing_labels)"
   ]
  },
  {
   "cell_type": "code",
   "execution_count": 24,
   "metadata": {},
   "outputs": [],
   "source": [
    "import tensorflow as tf\n",
    "model = tf.keras.Sequential([\n",
    "    tf.keras.layers.Embedding(vocab_size, embedding_dim, input_length=max_length),\n",
    "    tf.keras.layers.GlobalAveragePooling1D(),\n",
    "    tf.keras.layers.Dense(24, activation='relu'),\n",
    "    tf.keras.layers.Dense(1, activation='sigmoid')\n",
    "])\n",
    "model.compile(loss='binary_crossentropy',optimizer='adam',metrics=['accuracy'])\n"
   ]
  },
  {
   "cell_type": "code",
   "execution_count": 25,
   "metadata": {},
   "outputs": [
    {
     "name": "stdout",
     "output_type": "stream",
     "text": [
      "Model: \"sequential\"\n",
      "_________________________________________________________________\n",
      "Layer (type)                 Output Shape              Param #   \n",
      "=================================================================\n",
      "embedding (Embedding)        (None, 100, 16)           160000    \n",
      "_________________________________________________________________\n",
      "global_average_pooling1d (Gl (None, 16)                0         \n",
      "_________________________________________________________________\n",
      "dense (Dense)                (None, 24)                408       \n",
      "_________________________________________________________________\n",
      "dense_1 (Dense)              (None, 1)                 25        \n",
      "=================================================================\n",
      "Total params: 160,433\n",
      "Trainable params: 160,433\n",
      "Non-trainable params: 0\n",
      "_________________________________________________________________\n"
     ]
    }
   ],
   "source": [
    "model.summary()\n"
   ]
  },
  {
   "cell_type": "code",
   "execution_count": 26,
   "metadata": {},
   "outputs": [
    {
     "name": "stdout",
     "output_type": "stream",
     "text": [
      "Epoch 1/15\n",
      "1250/1250 - 3s - loss: 0.6299 - accuracy: 0.6369 - val_loss: 0.5367 - val_accuracy: 0.7352\n",
      "Epoch 2/15\n",
      "1250/1250 - 3s - loss: 0.4661 - accuracy: 0.7865 - val_loss: 0.5095 - val_accuracy: 0.7510\n",
      "Epoch 3/15\n",
      "1250/1250 - 3s - loss: 0.4096 - accuracy: 0.8153 - val_loss: 0.4834 - val_accuracy: 0.7731\n",
      "Epoch 4/15\n",
      "1250/1250 - 3s - loss: 0.3818 - accuracy: 0.8307 - val_loss: 0.4929 - val_accuracy: 0.7723\n",
      "Epoch 5/15\n",
      "1250/1250 - 3s - loss: 0.3626 - accuracy: 0.8408 - val_loss: 0.5028 - val_accuracy: 0.7735\n",
      "Epoch 6/15\n",
      "1250/1250 - 3s - loss: 0.3508 - accuracy: 0.8478 - val_loss: 0.5138 - val_accuracy: 0.7710\n",
      "Epoch 7/15\n",
      "1250/1250 - 3s - loss: 0.3405 - accuracy: 0.8526 - val_loss: 0.5339 - val_accuracy: 0.7595\n",
      "Epoch 8/15\n",
      "1250/1250 - 3s - loss: 0.3325 - accuracy: 0.8573 - val_loss: 0.5386 - val_accuracy: 0.7642\n",
      "Epoch 9/15\n",
      "1250/1250 - 3s - loss: 0.3267 - accuracy: 0.8609 - val_loss: 0.5449 - val_accuracy: 0.7604\n",
      "Epoch 10/15\n",
      "1250/1250 - 3s - loss: 0.3221 - accuracy: 0.8632 - val_loss: 0.5585 - val_accuracy: 0.7568\n",
      "Epoch 11/15\n",
      "1250/1250 - 3s - loss: 0.3166 - accuracy: 0.8668 - val_loss: 0.5609 - val_accuracy: 0.7575\n",
      "Epoch 12/15\n",
      "1250/1250 - 3s - loss: 0.3132 - accuracy: 0.8697 - val_loss: 0.5695 - val_accuracy: 0.7556\n",
      "Epoch 13/15\n",
      "1250/1250 - 3s - loss: 0.3093 - accuracy: 0.8709 - val_loss: 0.5744 - val_accuracy: 0.7583\n",
      "Epoch 14/15\n",
      "1250/1250 - 3s - loss: 0.3056 - accuracy: 0.8750 - val_loss: 0.5841 - val_accuracy: 0.7574\n",
      "Epoch 15/15\n",
      "1250/1250 - 3s - loss: 0.3022 - accuracy: 0.8757 - val_loss: 0.6044 - val_accuracy: 0.7501\n"
     ]
    }
   ],
   "source": [
    "# TODO: What are these epochs? \n",
    "num_epochs = 15\n",
    "history = model.fit(training_padded, training_labels, epochs=num_epochs, validation_data=(testing_padded, testing_labels), verbose=2)"
   ]
  },
  {
   "cell_type": "code",
   "execution_count": 59,
   "metadata": {},
   "outputs": [
    {
     "name": "stdout",
     "output_type": "stream",
     "text": [
      "[[0.9025492]]\n",
      "Negative Review\n"
     ]
    }
   ],
   "source": [
    "sentence = [\"Worst movie ever! Terrible from the start\"]\n",
    "\n",
    "sequence = tokenizer.texts_to_sequences(sentence)\n",
    "padded = pad_sequences(sequence, maxlen=max_length, padding=padding_type, truncating=trunc_type)\n",
    "\n",
    "result = model.predict(padded)\n",
    "\n",
    "print(result)\n",
    "\n",
    "if result[0] > .5:\n",
    "    print(\"Negative Review\")\n",
    "else:\n",
    "    print(\"Positive Review\")"
   ]
  },
  {
   "cell_type": "code",
   "execution_count": null,
   "metadata": {},
   "outputs": [],
   "source": []
  },
  {
   "cell_type": "code",
   "execution_count": null,
   "metadata": {},
   "outputs": [],
   "source": []
  },
  {
   "cell_type": "code",
   "execution_count": null,
   "metadata": {},
   "outputs": [],
   "source": []
  },
  {
   "cell_type": "code",
   "execution_count": null,
   "metadata": {},
   "outputs": [],
   "source": []
  },
  {
   "cell_type": "code",
   "execution_count": null,
   "metadata": {},
   "outputs": [],
   "source": []
  },
  {
   "cell_type": "code",
   "execution_count": null,
   "metadata": {},
   "outputs": [],
   "source": []
  },
  {
   "cell_type": "code",
   "execution_count": null,
   "metadata": {},
   "outputs": [],
   "source": []
  },
  {
   "cell_type": "code",
   "execution_count": null,
   "metadata": {},
   "outputs": [],
   "source": []
  },
  {
   "cell_type": "code",
   "execution_count": null,
   "metadata": {},
   "outputs": [],
   "source": [
    "torch.cuda.is_available()"
   ]
  },
  {
   "cell_type": "code",
   "execution_count": null,
   "metadata": {},
   "outputs": [],
   "source": []
  }
 ],
 "metadata": {
  "kernelspec": {
   "display_name": "conda_pytorch_p36",
   "language": "python",
   "name": "conda_pytorch_p36"
  },
  "language_info": {
   "codemirror_mode": {
    "name": "ipython",
    "version": 3
   },
   "file_extension": ".py",
   "mimetype": "text/x-python",
   "name": "python",
   "nbconvert_exporter": "python",
   "pygments_lexer": "ipython3",
   "version": "3.6.10"
  }
 },
 "nbformat": 4,
 "nbformat_minor": 4
}
